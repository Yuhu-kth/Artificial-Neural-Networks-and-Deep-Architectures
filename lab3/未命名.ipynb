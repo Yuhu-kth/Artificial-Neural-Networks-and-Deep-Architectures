{
 "cells": [
  {
   "cell_type": "code",
   "execution_count": 1,
   "metadata": {},
   "outputs": [],
   "source": [
    "import numpy as np\n",
    "import matplotlib.pyplot as plt\n",
    "np.set_printoptions(threshold=np.inf)"
   ]
  },
  {
   "cell_type": "code",
   "execution_count": 2,
   "metadata": {},
   "outputs": [],
   "source": [
    "def sign(x):\n",
    "\toutput = np.where(x>=0,1,-1)\n",
    "\treturn output\n",
    "\n",
    "class hopfield():\n",
    "    def __init__(self, size, npatterns, theta, trainX):\n",
    "        self.W = np.zeros([npatterns, npatterns]) # bias term\n",
    "        self.size = size            #number of units\n",
    "        self.npatterns = npatterns  #number of patterns\n",
    "        self.theta = theta\n",
    "        self.X = trainX\n",
    "    \n",
    "    def Weights(self):\n",
    "        rho = 1/(np.dot(self.size,self.npatterns))*sum(self.X)\n",
    "        W = np.zeros((self.size,self.size))\n",
    "        for x in self.X:\n",
    "            self.W += np.outer((x-rho),(x-rho))\n",
    "        for i in range(self.npatterns):\n",
    "            self.W[i,i] = 0\n",
    "        # print(\"W\",self.W)\n",
    "\n",
    "    \n",
    "    def update(self,x):\n",
    "        # print(x.shape)\n",
    "        temp = 0\n",
    "        for i in range(x.shape[0]):\n",
    "            for j in range(x.shape[0]):\n",
    "                temp += np.dot(x[j],self.W[i,j])\n",
    "                x[i] = 0.5+0.5*sign(temp-self.theta)\n",
    "        return x"
   ]
  },
  {
   "cell_type": "code",
   "execution_count": 3,
   "metadata": {},
   "outputs": [],
   "source": [
    "def generatePattern(dim, length, sparsity):\n",
    "        trainX = np.random.uniform(0,1,(dim,length))\n",
    "        trainX[trainX>sparsity] = 1\n",
    "        trainX[trainX<sparsity] = 0\n",
    "        return trainX\n",
    "        \n",
    "\n",
    "def Accuracy(inputData, outputData):\n",
    "    correct = 0\n",
    "    counter = 0\n",
    "    for i in range(len(inputData)):\n",
    "        if inputData[i] == 1:\n",
    "            counter += 1\n",
    "            if inputData[i] == outputData[i]:\n",
    "                counter += 1\n",
    "                if inputData[i] == outputData[i]:\n",
    "                    correct += 1\n",
    "        return correct*100/counter"
   ]
  },
  {
   "cell_type": "code",
   "execution_count": null,
   "metadata": {},
   "outputs": [],
   "source": [
    "thetaList = [0.0, 0.3, 0.6, 0.9]\n",
    "for theta in thetaList:\n",
    "    dim = range(1,10)\n",
    "    accuracy = []\n",
    "    Npatterns = []\n",
    "    for d in dim :\n",
    "        avgAcc = 0\n",
    "        for i in range(2):\n",
    "            trainX = generatePattern(d, 1024, 0.9)\n",
    "            hopfield_frame= hopfield(trainX.shape[0],trainX.shape[1],theta,trainX)\n",
    "            testData = trainX[0]\n",
    "            hopfield_frame.Weights()\n",
    "            testNew = hopfield_frame.update(testData)\n",
    "            avgAcc += Accuracy(testData,testNew)/2\n",
    "        accuracy.append(avgAcc)\n",
    "        Npatterns.append(d)\n",
    "\n",
    "plt.plot(Npatterns,accuracy)\n",
    "plt.xlabel(\"Number of Patterns\")\n",
    "plt.ylabel(\"Accuracy\")\n",
    "plt.legend(['0.0','0.3','0.6','0.9'])\n",
    "plt.show()"
   ]
  },
  {
   "cell_type": "code",
   "execution_count": null,
   "metadata": {},
   "outputs": [],
   "source": []
  },
  {
   "cell_type": "code",
   "execution_count": null,
   "metadata": {},
   "outputs": [],
   "source": []
  }
 ],
 "metadata": {
  "kernelspec": {
   "display_name": "Python 3",
   "language": "python",
   "name": "python3"
  },
  "language_info": {
   "codemirror_mode": {
    "name": "ipython",
    "version": 3
   },
   "file_extension": ".py",
   "mimetype": "text/x-python",
   "name": "python",
   "nbconvert_exporter": "python",
   "pygments_lexer": "ipython3",
   "version": "3.7.4"
  }
 },
 "nbformat": 4,
 "nbformat_minor": 2
}
